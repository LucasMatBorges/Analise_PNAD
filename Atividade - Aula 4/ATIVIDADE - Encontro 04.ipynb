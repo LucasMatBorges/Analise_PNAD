{
 "cells": [
  {
   "cell_type": "markdown",
   "metadata": {},
   "source": [
    "#ATIVIDADE - Encontro 04\n",
    "\n",
    "**ARTHUR RIZZO\n",
    "  FELIPE GOICHMAN\n",
    "  LUCAS  BORGES\n",
    "  TURMA C**\n",
    "  "
   ]
  },
  {
   "cell_type": "markdown",
   "metadata": {},
   "source": [
    "Usaremos a base de dados `Salarios.txt`.\n",
    "\n",
    "Esta base apresenta salários de quatro profissões diferentes: A, B, C e D. Considere que esses salários foram mensurados para mil trabalhadores escolhidos aleatoriamente dentro de cada profissão. Os comandos abaixo abrem a base de dados:"
   ]
  },
  {
   "cell_type": "code",
   "execution_count": 33,
   "metadata": {
    "collapsed": false,
    "scrolled": true
   },
   "outputs": [
    {
     "name": "stdout",
     "output_type": "stream",
     "text": [
      "Esperamos trabalhar no diretório\n",
      "C:\\Users\\Lucas Borges\\Desktop\n"
     ]
    }
   ],
   "source": [
    "%matplotlib inline\n",
    "\n",
    "import os\n",
    "import pandas as pd\n",
    "\n",
    "print(\"Esperamos trabalhar no diretório\")\n",
    "print(os.getcwd())"
   ]
  },
  {
   "cell_type": "code",
   "execution_count": 34,
   "metadata": {
    "collapsed": false
   },
   "outputs": [],
   "source": [
    "#os.chdir(u'/home/brucewayne/Dropbox/DataScience/Ciência dos dados/Encontro 04')\n",
    "sal = pd.read_table('Salario.txt', sep=' ')"
   ]
  },
  {
   "cell_type": "code",
   "execution_count": 35,
   "metadata": {
    "collapsed": false
   },
   "outputs": [
    {
     "data": {
      "text/html": [
       "<div>\n",
       "<table border=\"1\" class=\"dataframe\">\n",
       "  <thead>\n",
       "    <tr style=\"text-align: right;\">\n",
       "      <th></th>\n",
       "      <th>A</th>\n",
       "      <th>B</th>\n",
       "      <th>C</th>\n",
       "      <th>D</th>\n",
       "    </tr>\n",
       "  </thead>\n",
       "  <tbody>\n",
       "    <tr>\n",
       "      <th>1</th>\n",
       "      <td>5697.85</td>\n",
       "      <td>4274.63</td>\n",
       "      <td>3443.46</td>\n",
       "      <td>2188.63</td>\n",
       "    </tr>\n",
       "    <tr>\n",
       "      <th>2</th>\n",
       "      <td>3305.24</td>\n",
       "      <td>5190.90</td>\n",
       "      <td>1012.56</td>\n",
       "      <td>1459.63</td>\n",
       "    </tr>\n",
       "    <tr>\n",
       "      <th>3</th>\n",
       "      <td>4643.24</td>\n",
       "      <td>4712.98</td>\n",
       "      <td>2565.48</td>\n",
       "      <td>3872.68</td>\n",
       "    </tr>\n",
       "    <tr>\n",
       "      <th>4</th>\n",
       "      <td>5750.45</td>\n",
       "      <td>5946.04</td>\n",
       "      <td>5638.32</td>\n",
       "      <td>1726.71</td>\n",
       "    </tr>\n",
       "    <tr>\n",
       "      <th>5</th>\n",
       "      <td>5683.33</td>\n",
       "      <td>6264.91</td>\n",
       "      <td>1489.46</td>\n",
       "      <td>2802.22</td>\n",
       "    </tr>\n",
       "    <tr>\n",
       "      <th>6</th>\n",
       "      <td>5580.22</td>\n",
       "      <td>5227.63</td>\n",
       "      <td>7341.81</td>\n",
       "      <td>5017.99</td>\n",
       "    </tr>\n",
       "    <tr>\n",
       "      <th>7</th>\n",
       "      <td>3785.73</td>\n",
       "      <td>2404.00</td>\n",
       "      <td>6973.51</td>\n",
       "      <td>1745.32</td>\n",
       "    </tr>\n",
       "    <tr>\n",
       "      <th>8</th>\n",
       "      <td>5753.49</td>\n",
       "      <td>3799.05</td>\n",
       "      <td>5423.69</td>\n",
       "      <td>3930.44</td>\n",
       "    </tr>\n",
       "    <tr>\n",
       "      <th>9</th>\n",
       "      <td>5454.27</td>\n",
       "      <td>4888.95</td>\n",
       "      <td>5522.81</td>\n",
       "      <td>1585.31</td>\n",
       "    </tr>\n",
       "    <tr>\n",
       "      <th>10</th>\n",
       "      <td>4831.95</td>\n",
       "      <td>5264.79</td>\n",
       "      <td>2070.78</td>\n",
       "      <td>2828.08</td>\n",
       "    </tr>\n",
       "    <tr>\n",
       "      <th>11</th>\n",
       "      <td>5992.85</td>\n",
       "      <td>5991.72</td>\n",
       "      <td>2598.85</td>\n",
       "      <td>3442.62</td>\n",
       "    </tr>\n",
       "    <tr>\n",
       "      <th>12</th>\n",
       "      <td>2625.72</td>\n",
       "      <td>4223.75</td>\n",
       "      <td>5878.27</td>\n",
       "      <td>2528.66</td>\n",
       "    </tr>\n",
       "    <tr>\n",
       "      <th>13</th>\n",
       "      <td>3611.53</td>\n",
       "      <td>4018.36</td>\n",
       "      <td>6960.85</td>\n",
       "      <td>2538.68</td>\n",
       "    </tr>\n",
       "    <tr>\n",
       "      <th>14</th>\n",
       "      <td>3929.14</td>\n",
       "      <td>5218.47</td>\n",
       "      <td>5688.94</td>\n",
       "      <td>1572.98</td>\n",
       "    </tr>\n",
       "    <tr>\n",
       "      <th>15</th>\n",
       "      <td>5887.87</td>\n",
       "      <td>5262.02</td>\n",
       "      <td>1383.81</td>\n",
       "      <td>2888.63</td>\n",
       "    </tr>\n",
       "    <tr>\n",
       "      <th>16</th>\n",
       "      <td>6693.07</td>\n",
       "      <td>3512.16</td>\n",
       "      <td>2474.53</td>\n",
       "      <td>3198.19</td>\n",
       "    </tr>\n",
       "    <tr>\n",
       "      <th>17</th>\n",
       "      <td>4120.56</td>\n",
       "      <td>3681.25</td>\n",
       "      <td>6034.32</td>\n",
       "      <td>2632.47</td>\n",
       "    </tr>\n",
       "    <tr>\n",
       "      <th>18</th>\n",
       "      <td>3866.11</td>\n",
       "      <td>7051.47</td>\n",
       "      <td>5162.81</td>\n",
       "      <td>1159.52</td>\n",
       "    </tr>\n",
       "    <tr>\n",
       "      <th>19</th>\n",
       "      <td>5226.02</td>\n",
       "      <td>3591.99</td>\n",
       "      <td>7151.35</td>\n",
       "      <td>2503.86</td>\n",
       "    </tr>\n",
       "    <tr>\n",
       "      <th>20</th>\n",
       "      <td>5091.45</td>\n",
       "      <td>2694.50</td>\n",
       "      <td>6981.21</td>\n",
       "      <td>2863.05</td>\n",
       "    </tr>\n",
       "    <tr>\n",
       "      <th>21</th>\n",
       "      <td>5431.53</td>\n",
       "      <td>5106.31</td>\n",
       "      <td>4844.73</td>\n",
       "      <td>2648.71</td>\n",
       "    </tr>\n",
       "    <tr>\n",
       "      <th>22</th>\n",
       "      <td>3345.88</td>\n",
       "      <td>3134.14</td>\n",
       "      <td>5333.10</td>\n",
       "      <td>1593.79</td>\n",
       "    </tr>\n",
       "    <tr>\n",
       "      <th>23</th>\n",
       "      <td>5431.44</td>\n",
       "      <td>4391.30</td>\n",
       "      <td>5413.11</td>\n",
       "      <td>2655.82</td>\n",
       "    </tr>\n",
       "    <tr>\n",
       "      <th>24</th>\n",
       "      <td>6808.10</td>\n",
       "      <td>4551.15</td>\n",
       "      <td>6375.72</td>\n",
       "      <td>2168.90</td>\n",
       "    </tr>\n",
       "    <tr>\n",
       "      <th>25</th>\n",
       "      <td>5500.90</td>\n",
       "      <td>4367.84</td>\n",
       "      <td>4785.75</td>\n",
       "      <td>3488.91</td>\n",
       "    </tr>\n",
       "    <tr>\n",
       "      <th>26</th>\n",
       "      <td>5242.11</td>\n",
       "      <td>4435.59</td>\n",
       "      <td>2164.62</td>\n",
       "      <td>2881.52</td>\n",
       "    </tr>\n",
       "    <tr>\n",
       "      <th>27</th>\n",
       "      <td>6307.88</td>\n",
       "      <td>3929.97</td>\n",
       "      <td>1527.75</td>\n",
       "      <td>3294.80</td>\n",
       "    </tr>\n",
       "    <tr>\n",
       "      <th>28</th>\n",
       "      <td>3769.24</td>\n",
       "      <td>6250.74</td>\n",
       "      <td>2803.51</td>\n",
       "      <td>2050.08</td>\n",
       "    </tr>\n",
       "    <tr>\n",
       "      <th>29</th>\n",
       "      <td>1662.04</td>\n",
       "      <td>2709.79</td>\n",
       "      <td>5712.23</td>\n",
       "      <td>3373.34</td>\n",
       "    </tr>\n",
       "    <tr>\n",
       "      <th>30</th>\n",
       "      <td>3614.46</td>\n",
       "      <td>3468.19</td>\n",
       "      <td>3330.19</td>\n",
       "      <td>1486.48</td>\n",
       "    </tr>\n",
       "    <tr>\n",
       "      <th>...</th>\n",
       "      <td>...</td>\n",
       "      <td>...</td>\n",
       "      <td>...</td>\n",
       "      <td>...</td>\n",
       "    </tr>\n",
       "    <tr>\n",
       "      <th>971</th>\n",
       "      <td>6037.02</td>\n",
       "      <td>6000.62</td>\n",
       "      <td>4057.52</td>\n",
       "      <td>3884.77</td>\n",
       "    </tr>\n",
       "    <tr>\n",
       "      <th>972</th>\n",
       "      <td>5153.83</td>\n",
       "      <td>5664.98</td>\n",
       "      <td>3637.72</td>\n",
       "      <td>5758.72</td>\n",
       "    </tr>\n",
       "    <tr>\n",
       "      <th>973</th>\n",
       "      <td>4902.87</td>\n",
       "      <td>4410.92</td>\n",
       "      <td>1433.91</td>\n",
       "      <td>2738.28</td>\n",
       "    </tr>\n",
       "    <tr>\n",
       "      <th>974</th>\n",
       "      <td>5869.33</td>\n",
       "      <td>6142.26</td>\n",
       "      <td>1320.80</td>\n",
       "      <td>4108.22</td>\n",
       "    </tr>\n",
       "    <tr>\n",
       "      <th>975</th>\n",
       "      <td>3758.80</td>\n",
       "      <td>2858.85</td>\n",
       "      <td>4348.03</td>\n",
       "      <td>3614.54</td>\n",
       "    </tr>\n",
       "    <tr>\n",
       "      <th>976</th>\n",
       "      <td>4811.74</td>\n",
       "      <td>5729.36</td>\n",
       "      <td>5811.79</td>\n",
       "      <td>3818.28</td>\n",
       "    </tr>\n",
       "    <tr>\n",
       "      <th>977</th>\n",
       "      <td>5282.82</td>\n",
       "      <td>5260.58</td>\n",
       "      <td>4072.51</td>\n",
       "      <td>3709.60</td>\n",
       "    </tr>\n",
       "    <tr>\n",
       "      <th>978</th>\n",
       "      <td>6712.07</td>\n",
       "      <td>5313.66</td>\n",
       "      <td>5102.31</td>\n",
       "      <td>1868.68</td>\n",
       "    </tr>\n",
       "    <tr>\n",
       "      <th>979</th>\n",
       "      <td>2573.05</td>\n",
       "      <td>5594.87</td>\n",
       "      <td>5569.06</td>\n",
       "      <td>1947.72</td>\n",
       "    </tr>\n",
       "    <tr>\n",
       "      <th>980</th>\n",
       "      <td>4146.62</td>\n",
       "      <td>5023.85</td>\n",
       "      <td>6288.41</td>\n",
       "      <td>2183.87</td>\n",
       "    </tr>\n",
       "    <tr>\n",
       "      <th>981</th>\n",
       "      <td>3132.81</td>\n",
       "      <td>4245.03</td>\n",
       "      <td>2156.64</td>\n",
       "      <td>2843.64</td>\n",
       "    </tr>\n",
       "    <tr>\n",
       "      <th>982</th>\n",
       "      <td>1909.85</td>\n",
       "      <td>4189.00</td>\n",
       "      <td>5791.85</td>\n",
       "      <td>2229.32</td>\n",
       "    </tr>\n",
       "    <tr>\n",
       "      <th>983</th>\n",
       "      <td>5024.77</td>\n",
       "      <td>6891.09</td>\n",
       "      <td>3547.69</td>\n",
       "      <td>2745.60</td>\n",
       "    </tr>\n",
       "    <tr>\n",
       "      <th>984</th>\n",
       "      <td>2678.00</td>\n",
       "      <td>5869.45</td>\n",
       "      <td>3881.26</td>\n",
       "      <td>3227.93</td>\n",
       "    </tr>\n",
       "    <tr>\n",
       "      <th>985</th>\n",
       "      <td>2396.26</td>\n",
       "      <td>3706.96</td>\n",
       "      <td>7104.54</td>\n",
       "      <td>7085.96</td>\n",
       "    </tr>\n",
       "    <tr>\n",
       "      <th>986</th>\n",
       "      <td>3180.43</td>\n",
       "      <td>5509.86</td>\n",
       "      <td>3231.71</td>\n",
       "      <td>5466.74</td>\n",
       "    </tr>\n",
       "    <tr>\n",
       "      <th>987</th>\n",
       "      <td>5824.67</td>\n",
       "      <td>5022.96</td>\n",
       "      <td>4366.58</td>\n",
       "      <td>1556.96</td>\n",
       "    </tr>\n",
       "    <tr>\n",
       "      <th>988</th>\n",
       "      <td>4660.69</td>\n",
       "      <td>5347.19</td>\n",
       "      <td>3310.89</td>\n",
       "      <td>2258.49</td>\n",
       "    </tr>\n",
       "    <tr>\n",
       "      <th>989</th>\n",
       "      <td>5592.45</td>\n",
       "      <td>3654.08</td>\n",
       "      <td>5919.38</td>\n",
       "      <td>5054.41</td>\n",
       "    </tr>\n",
       "    <tr>\n",
       "      <th>990</th>\n",
       "      <td>5625.75</td>\n",
       "      <td>2231.87</td>\n",
       "      <td>7099.83</td>\n",
       "      <td>2028.83</td>\n",
       "    </tr>\n",
       "    <tr>\n",
       "      <th>991</th>\n",
       "      <td>3096.01</td>\n",
       "      <td>4032.40</td>\n",
       "      <td>5948.28</td>\n",
       "      <td>3221.61</td>\n",
       "    </tr>\n",
       "    <tr>\n",
       "      <th>992</th>\n",
       "      <td>6679.65</td>\n",
       "      <td>3544.67</td>\n",
       "      <td>4843.48</td>\n",
       "      <td>1818.98</td>\n",
       "    </tr>\n",
       "    <tr>\n",
       "      <th>993</th>\n",
       "      <td>3632.56</td>\n",
       "      <td>2757.60</td>\n",
       "      <td>2568.21</td>\n",
       "      <td>3273.01</td>\n",
       "    </tr>\n",
       "    <tr>\n",
       "      <th>994</th>\n",
       "      <td>5036.40</td>\n",
       "      <td>3425.29</td>\n",
       "      <td>6825.07</td>\n",
       "      <td>1998.25</td>\n",
       "    </tr>\n",
       "    <tr>\n",
       "      <th>995</th>\n",
       "      <td>4348.06</td>\n",
       "      <td>4162.37</td>\n",
       "      <td>1378.04</td>\n",
       "      <td>6336.01</td>\n",
       "    </tr>\n",
       "    <tr>\n",
       "      <th>996</th>\n",
       "      <td>4180.21</td>\n",
       "      <td>2303.26</td>\n",
       "      <td>1162.27</td>\n",
       "      <td>2385.16</td>\n",
       "    </tr>\n",
       "    <tr>\n",
       "      <th>997</th>\n",
       "      <td>4656.16</td>\n",
       "      <td>4162.74</td>\n",
       "      <td>5079.64</td>\n",
       "      <td>4197.56</td>\n",
       "    </tr>\n",
       "    <tr>\n",
       "      <th>998</th>\n",
       "      <td>6538.86</td>\n",
       "      <td>6160.02</td>\n",
       "      <td>6860.83</td>\n",
       "      <td>2281.13</td>\n",
       "    </tr>\n",
       "    <tr>\n",
       "      <th>999</th>\n",
       "      <td>6407.47</td>\n",
       "      <td>4410.63</td>\n",
       "      <td>3853.55</td>\n",
       "      <td>2597.24</td>\n",
       "    </tr>\n",
       "    <tr>\n",
       "      <th>1000</th>\n",
       "      <td>5485.03</td>\n",
       "      <td>1957.34</td>\n",
       "      <td>6507.59</td>\n",
       "      <td>3859.73</td>\n",
       "    </tr>\n",
       "  </tbody>\n",
       "</table>\n",
       "<p>1000 rows × 4 columns</p>\n",
       "</div>"
      ],
      "text/plain": [
       "            A        B        C        D\n",
       "1     5697.85  4274.63  3443.46  2188.63\n",
       "2     3305.24  5190.90  1012.56  1459.63\n",
       "3     4643.24  4712.98  2565.48  3872.68\n",
       "4     5750.45  5946.04  5638.32  1726.71\n",
       "5     5683.33  6264.91  1489.46  2802.22\n",
       "6     5580.22  5227.63  7341.81  5017.99\n",
       "7     3785.73  2404.00  6973.51  1745.32\n",
       "8     5753.49  3799.05  5423.69  3930.44\n",
       "9     5454.27  4888.95  5522.81  1585.31\n",
       "10    4831.95  5264.79  2070.78  2828.08\n",
       "11    5992.85  5991.72  2598.85  3442.62\n",
       "12    2625.72  4223.75  5878.27  2528.66\n",
       "13    3611.53  4018.36  6960.85  2538.68\n",
       "14    3929.14  5218.47  5688.94  1572.98\n",
       "15    5887.87  5262.02  1383.81  2888.63\n",
       "16    6693.07  3512.16  2474.53  3198.19\n",
       "17    4120.56  3681.25  6034.32  2632.47\n",
       "18    3866.11  7051.47  5162.81  1159.52\n",
       "19    5226.02  3591.99  7151.35  2503.86\n",
       "20    5091.45  2694.50  6981.21  2863.05\n",
       "21    5431.53  5106.31  4844.73  2648.71\n",
       "22    3345.88  3134.14  5333.10  1593.79\n",
       "23    5431.44  4391.30  5413.11  2655.82\n",
       "24    6808.10  4551.15  6375.72  2168.90\n",
       "25    5500.90  4367.84  4785.75  3488.91\n",
       "26    5242.11  4435.59  2164.62  2881.52\n",
       "27    6307.88  3929.97  1527.75  3294.80\n",
       "28    3769.24  6250.74  2803.51  2050.08\n",
       "29    1662.04  2709.79  5712.23  3373.34\n",
       "30    3614.46  3468.19  3330.19  1486.48\n",
       "...       ...      ...      ...      ...\n",
       "971   6037.02  6000.62  4057.52  3884.77\n",
       "972   5153.83  5664.98  3637.72  5758.72\n",
       "973   4902.87  4410.92  1433.91  2738.28\n",
       "974   5869.33  6142.26  1320.80  4108.22\n",
       "975   3758.80  2858.85  4348.03  3614.54\n",
       "976   4811.74  5729.36  5811.79  3818.28\n",
       "977   5282.82  5260.58  4072.51  3709.60\n",
       "978   6712.07  5313.66  5102.31  1868.68\n",
       "979   2573.05  5594.87  5569.06  1947.72\n",
       "980   4146.62  5023.85  6288.41  2183.87\n",
       "981   3132.81  4245.03  2156.64  2843.64\n",
       "982   1909.85  4189.00  5791.85  2229.32\n",
       "983   5024.77  6891.09  3547.69  2745.60\n",
       "984   2678.00  5869.45  3881.26  3227.93\n",
       "985   2396.26  3706.96  7104.54  7085.96\n",
       "986   3180.43  5509.86  3231.71  5466.74\n",
       "987   5824.67  5022.96  4366.58  1556.96\n",
       "988   4660.69  5347.19  3310.89  2258.49\n",
       "989   5592.45  3654.08  5919.38  5054.41\n",
       "990   5625.75  2231.87  7099.83  2028.83\n",
       "991   3096.01  4032.40  5948.28  3221.61\n",
       "992   6679.65  3544.67  4843.48  1818.98\n",
       "993   3632.56  2757.60  2568.21  3273.01\n",
       "994   5036.40  3425.29  6825.07  1998.25\n",
       "995   4348.06  4162.37  1378.04  6336.01\n",
       "996   4180.21  2303.26  1162.27  2385.16\n",
       "997   4656.16  4162.74  5079.64  4197.56\n",
       "998   6538.86  6160.02  6860.83  2281.13\n",
       "999   6407.47  4410.63  3853.55  2597.24\n",
       "1000  5485.03  1957.34  6507.59  3859.73\n",
       "\n",
       "[1000 rows x 4 columns]"
      ]
     },
     "execution_count": 35,
     "metadata": {},
     "output_type": "execute_result"
    }
   ],
   "source": [
    "sal"
   ]
  },
  {
   "cell_type": "markdown",
   "metadata": {},
   "source": [
    "**1)\tOs quatro histogramas a seguir refletem a distribuição dos salários em cada profissão. Observando seus formatos, como você descreveria essas distribuições?**"
   ]
  },
  {
   "cell_type": "code",
   "execution_count": 36,
   "metadata": {
    "collapsed": true
   },
   "outputs": [],
   "source": [
    "faixas = (0,1000,2000,3000,4000,5000,6000,7000,8000,9000,10000)"
   ]
  },
  {
   "cell_type": "markdown",
   "metadata": {},
   "source": [
    "1) Enquanto os salarios de A, B e D são heterogeneos, o salario da empresa C é homogenea."
   ]
  },
  {
   "cell_type": "code",
   "execution_count": 37,
   "metadata": {
    "collapsed": false
   },
   "outputs": [
    {
     "data": {
      "text/plain": [
       "<matplotlib.axes._subplots.AxesSubplot at 0x9afa7f0>"
      ]
     },
     "execution_count": 37,
     "metadata": {},
     "output_type": "execute_result"
    },
    {
     "data": {
      "image/png": "[encoded data removed]",
      "text/plain": [
       "<matplotlib.figure.Figure at 0x89d7780>"
      ]
     },
     "metadata": {},
     "output_type": "display_data"
    },
    {
     "data": {
      "image/png": "[encoded data removed]",
      "text/plain": [
       "<matplotlib.figure.Figure at 0x9a1bbe0>"
      ]
     },
     "metadata": {},
     "output_type": "display_data"
    },
    {
     "data": {
      "image/png": "[encoded data removed]",
      "text/plain": [
       "<matplotlib.figure.Figure at 0x9a77fd0>"
      ]
     },
     "metadata": {},
     "output_type": "display_data"
    },
    {
     "data": {
      "image/png": "[encoded data removed]",
      "text/plain": [
       "<matplotlib.figure.Figure at 0x9afaf28>"
      ]
     },
     "metadata": {},
     "output_type": "display_data"
    }
   ],
   "source": [
    "# Note que chamando o método DataFrame.plot e passando a coluna no parâmetro data também funciona\n",
    "pd.DataFrame.plot(kind='hist', data=sal.A, bins=faixas, color=('red'), normed=True, legend=False)\n",
    "pd.DataFrame.plot(kind='hist', data=sal.B, bins=faixas, color=('green'), normed=True, legend=False)\n",
    "pd.DataFrame.plot(kind='hist', data=sal.C, bins=faixas, color=('blue'), normed=True, legend=False)\n",
    "pd.DataFrame.plot(kind='hist', data=sal.D, bins=faixas, color=('teal'), normed=True, legend=False)\n",
    "\n",
    "#Note que também é possível chamar o plot() direto nos objetos das colunas\n",
    "#sal.A.plot(kind='hist', bins=faixas, color=('red'), normed=True, legend=False)\n",
    "#sal.B.plot(kind='hist', bins=faixas, color=('green'), normed=True, legend=False)\n",
    "#sal.C.plot(kind='hist', bins=faixas, color=('blue'), normed=True, legend=False)\n",
    "#sal.D.plot(kind='hist', bins=faixas, color=('teal'), normed=True, legend=False)"
   ]
  },
  {
   "cell_type": "markdown",
   "metadata": {},
   "source": [
    "**2)\tConsiderando a distribuição dos salários em cada profissão (A,B,C e D), descreva qual deve ser sua influência sobre as seguintes características (não faça contas):**\n",
    "\n",
    "**2.1.\tMedidas de tendência central: os valores tendem a agrupar ao redor de um particular ponto?**\n",
    "\n",
    "**2.2.\tDispersão: qual a variabilidade nos dados?**\n",
    "\n",
    "**2.3.\tCaudas: as probabilidades caem da mesma forma conforme nos distanciamos, para direita e para esquerda, da faixa salarial com maior densidade? Elas podem influenciar no formato dos dados?**\n",
    "\n",
    "**2.4.\tValores aberrantes (_outliers_?): Há valores extremos que se distanciam de alguma medida central? Veja a definição de _outliers_ no exemplo 1.4 do livro (Magalhães & Lima)**"
   ]
  },
  {
   "cell_type": "markdown",
   "metadata": {
    "collapsed": false
   },
   "source": [
    "**RESPOSTAS**"
   ]
  },
  {
   "cell_type": "markdown",
   "metadata": {
    "collapsed": true
   },
   "source": [
    "2.1) Os valores dos salarios nas empresas A, B e D tendem a agrupar ao redor de um ponto."
   ]
  },
  {
   "cell_type": "markdown",
   "metadata": {},
   "source": [
    "2.2) A variabilidade da empresa A pode ser considerada media, a da empresa B alta, a da empresa C baixa e da empresa D alta."
   ]
  },
  {
   "cell_type": "markdown",
   "metadata": {},
   "source": [
    "2.3) No caso da empresa C essa afirmação pode ser considerada correta. Essa simetria influencia no formato dos dados."
   ]
  },
  {
   "cell_type": "markdown",
   "metadata": {},
   "source": [
    "2.4) Há outliners nas empresas A, B e D."
   ]
  },
  {
   "cell_type": "markdown",
   "metadata": {},
   "source": [
    "**3)\tHá medidas-resumo que buscam sumarizar as informações de variáveis quantitativas representando, por exemplo, a tendência central dos dados ou como estão dispersos. Nesse caso, calcule as seguintes medidas usando recursos do _pandas_:**\n",
    "\n",
    "**3.1.a.\tMédia de cada profissão:  **"
   ]
  },
  {
   "cell_type": "markdown",
   "metadata": {},
   "source": [
    "Profissão A"
   ]
  },
  {
   "cell_type": "code",
   "execution_count": 38,
   "metadata": {
    "collapsed": false
   },
   "outputs": [
    {
     "data": {
      "text/plain": [
       "4683.116909999999"
      ]
     },
     "execution_count": 38,
     "metadata": {},
     "output_type": "execute_result"
    }
   ],
   "source": [
    "x=sal.A.sum()/len(sal.A)\n",
    "x"
   ]
  },
  {
   "cell_type": "markdown",
   "metadata": {},
   "source": [
    "Profissão B"
   ]
  },
  {
   "cell_type": "code",
   "execution_count": 39,
   "metadata": {
    "collapsed": false
   },
   "outputs": [
    {
     "data": {
      "text/plain": [
       "4470.739759999997"
      ]
     },
     "execution_count": 39,
     "metadata": {},
     "output_type": "execute_result"
    }
   ],
   "source": [
    "y=sal.B.sum()/len(sal.B)\n",
    "y"
   ]
  },
  {
   "cell_type": "markdown",
   "metadata": {},
   "source": [
    "Profissão C"
   ]
  },
  {
   "cell_type": "code",
   "execution_count": 40,
   "metadata": {
    "collapsed": false
   },
   "outputs": [
    {
     "data": {
      "text/plain": [
       "4207.062149999995"
      ]
     },
     "execution_count": 40,
     "metadata": {},
     "output_type": "execute_result"
    }
   ],
   "source": [
    "z=sal.C.sum()/len(sal.C)\n",
    "z"
   ]
  },
  {
   "cell_type": "markdown",
   "metadata": {},
   "source": [
    "Profissão D"
   ]
  },
  {
   "cell_type": "code",
   "execution_count": 41,
   "metadata": {
    "collapsed": false
   },
   "outputs": [
    {
     "data": {
      "text/plain": [
       "3252.78134"
      ]
     },
     "execution_count": 41,
     "metadata": {},
     "output_type": "execute_result"
    }
   ],
   "source": [
    "p=sal.D.sum()/len(sal.D)\n",
    "p"
   ]
  },
  {
   "cell_type": "markdown",
   "metadata": {},
   "source": [
    "**3.1.b. Mediana de cada profissão**"
   ]
  },
  {
   "cell_type": "code",
   "execution_count": 42,
   "metadata": {
    "collapsed": false
   },
   "outputs": [
    {
     "data": {
      "text/plain": [
       "A    4838.56\n",
       "B    4486.44\n",
       "C    4264.84\n",
       "D    3076.09\n",
       "dtype: float64"
      ]
     },
     "execution_count": 42,
     "metadata": {},
     "output_type": "execute_result"
    }
   ],
   "source": [
    "sal.median()"
   ]
  },
  {
   "cell_type": "markdown",
   "metadata": {},
   "source": [
    "**Caso esses comandos não estivessem prontos, como poderiam ser programados? Faça apenas para a profissão A. (Dica: dá para evitar usar _loop_, mas use se necessário)**"
   ]
  },
  {
   "cell_type": "code",
   "execution_count": 43,
   "metadata": {
    "collapsed": false
   },
   "outputs": [
    {
     "data": {
      "text/plain": [
       "4838.56"
      ]
     },
     "execution_count": 43,
     "metadata": {},
     "output_type": "execute_result"
    }
   ],
   "source": [
    "t=sal.sort('A')\n",
    "w = t[499:501]\n",
    "w.A.sum()/len(w)"
   ]
  },
  {
   "cell_type": "markdown",
   "metadata": {},
   "source": [
    "**3.2.\tVariância e desvio padrão para cada profissão.  **"
   ]
  },
  {
   "cell_type": "code",
   "execution_count": 44,
   "metadata": {
    "collapsed": false
   },
   "outputs": [
    {
     "data": {
      "text/plain": [
       "A    1482130.387750\n",
       "B    1455318.425548\n",
       "C    3535437.267580\n",
       "D    1652537.850450\n",
       "dtype: float64"
      ]
     },
     "execution_count": 44,
     "metadata": {},
     "output_type": "execute_result"
    }
   ],
   "source": [
    "sal.var()"
   ]
  },
  {
   "cell_type": "code",
   "execution_count": 45,
   "metadata": {
    "collapsed": false
   },
   "outputs": [
    {
     "data": {
      "text/plain": [
       "A    1217.427775\n",
       "B    1206.365793\n",
       "C    1880.275849\n",
       "D    1285.510735\n",
       "dtype: float64"
      ]
     },
     "execution_count": 45,
     "metadata": {},
     "output_type": "execute_result"
    }
   ],
   "source": [
    "vr=sal.var()\n",
    "dv=(vr)**(1/2)\n",
    "dv"
   ]
  },
  {
   "cell_type": "markdown",
   "metadata": {},
   "source": [
    "**Qual a diferença entre variância e desvio padrão? Há alguma preferência por uma ou por outra?  \n",
    "Caso o comando da variância não estivesse pronto, como poderia ser programado? Programe-o apenas para a profissão A.**"
   ]
  },
  {
   "cell_type": "markdown",
   "metadata": {
    "collapsed": false
   },
   "source": [
    "A variância da amostra é a média das diferenças ao quadrado entre cada uma das observações e a média do conjunto.O desvio padrão de um conjunto de valores amostrais é uma medida da variação dos valores em torno da média. Como a variância reflete a um valor elevado ao quadrado (segunda ordem) e os dados estão em primeiro grau, em geral se tem a prefêrencia pelo desvio padrão que também é um valor no primeiro grau. "
   ]
  },
  {
   "cell_type": "code",
   "execution_count": 46,
   "metadata": {
    "collapsed": false
   },
   "outputs": [
    {
     "data": {
      "text/plain": [
       "1482130.3877503022"
      ]
     },
     "execution_count": 46,
     "metadata": {},
     "output_type": "execute_result"
    }
   ],
   "source": [
    "x=sal.A.sum()/len(sal.A)\n",
    "x                                                   \n",
    "total = 0\n",
    "for i in sal.A:\n",
    "    variancia = (i-x)**2\n",
    "    total+=variancia\n",
    "variancia2=total/(len(sal.A)-1)\n",
    "variancia2"
   ]
  },
  {
   "cell_type": "markdown",
   "metadata": {},
   "source": [
    "**4) O gráfico a seguir, nomeado de box-plot ou gráfico de caixa, é uma representação gráfica envolvendo os quartis, os quais são obtidos pela divisão do conjunto de dados em quatro subgrupos. Assim, temos:  \n",
    "Primeiro quartil (Q1): valor que divide os 25% menores valores dos demais 75% maiores valores.  \n",
    "Segundo quartil (Md): é a própria mediana.  \n",
    "Terceiro quartil (Q3): valor que divide os 75% menores valores dos demais 25% maiores valores.  \n",
    "Considerando essas definições, descreva o comportamento dos salários em cada profissão. Confronte com interpretações anteriores. **"
   ]
  },
  {
   "cell_type": "code",
   "execution_count": 47,
   "metadata": {
    "collapsed": false
   },
   "outputs": [
    {
     "data": {
      "text/plain": [
       "<matplotlib.axes._subplots.AxesSubplot at 0x815e860>"
      ]
     },
     "execution_count": 47,
     "metadata": {},
     "output_type": "execute_result"
    },
    {
     "data": {
      "image/png": "[encoded data removed]",
      "text/plain": [
       "<matplotlib.figure.Figure at 0x99ef898>"
      ]
     },
     "metadata": {},
     "output_type": "display_data"
    }
   ],
   "source": [
    "#Use o comando a seguir para Boxplot\n",
    "pd.DataFrame.plot(kind='box', data=sal, color=('red'))"
   ]
  },
  {
   "cell_type": "markdown",
   "metadata": {},
   "source": [
    "**Escreva seu comentário aqui...**\n",
    "\n",
    "As previsões batem com os Boxplots. Verificamos que só há outliers nas profissões A,B e D. Além disso verificamos uma certa homegeneidade na profissão C."
   ]
  },
  {
   "cell_type": "markdown",
   "metadata": {},
   "source": [
    "**5) Suponha que você queira seguir uma das quatro profissões (A, B, C e D) e que sua decisão será guiada pelo futuro desempenho salarial que possa vir a ter.**\n",
    "\n",
    "**Justifique qual profissão deveria seguir e respalde sua escolha em função dos recursos de análise descritiva usados**"
   ]
  },
  {
   "cell_type": "markdown",
   "metadata": {
    "collapsed": true
   },
   "source": [
    "**Escreva seu comentário aqui...**\n",
    "\n",
    "Escolheria a profissão A, pois nota-se um histograma crescente de salário, isto é, dependendo do desempenho do profissional no emprego seu salário iria crescer em uma taxa de probabilidade crescente até certo ponto."
   ]
  }
 ],
 "metadata": {
  "kernelspec": {
   "display_name": "Python 3",
   "language": "python",
   "name": "python3"
  },
  "language_info": {
   "codemirror_mode": {
    "name": "ipython",
    "version": 3
   },
   "file_extension": ".py",
   "mimetype": "text/x-python",
   "name": "python",
   "nbconvert_exporter": "python",
   "pygments_lexer": "ipython3",
   "version": "3.4.3"
  }
 },
 "nbformat": 4,
 "nbformat_minor": 0
}
