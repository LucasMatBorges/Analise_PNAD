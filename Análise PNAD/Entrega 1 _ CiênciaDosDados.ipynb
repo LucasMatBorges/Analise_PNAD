{
 "cells": [
  {
   "cell_type": "markdown",
   "metadata": {},
   "source": [
    "#ANALISE PNAD- Lucas Borges e Felipe Goichman\n",
    "\n",
    "Mr.Gold quer dar inicio a uma universidade, porém antes ele deve analisar alguns dados da PNAD para centralizar\n",
    "suas atenções no seu publico alvo, para isso, nós, alunos da faculdade de engenharia do Insper fomos responsáveis\n",
    "para fazer essa analise para o Mr.Gold."
   ]
  },
  {
   "cell_type": "markdown",
   "metadata": {},
   "source": [
    "###Leitura do formato de arquivo e Dividindo as categorias por idades"
   ]
  },
  {
   "cell_type": "code",
   "execution_count": 135,
   "metadata": {
    "collapsed": true
   },
   "outputs": [],
   "source": [
    "import pandas as pd"
   ]
  },
  {
   "cell_type": "code",
   "execution_count": 136,
   "metadata": {
    "collapsed": false
   },
   "outputs": [],
   "source": [
    "import os"
   ]
  },
  {
   "cell_type": "code",
   "execution_count": 137,
   "metadata": {
    "collapsed": false
   },
   "outputs": [],
   "source": [
    "dados = pd.read_table(\"pes2013A.txt.gz\", sep=\" \", compression=\"gzip\")"
   ]
  },
  {
   "cell_type": "code",
   "execution_count": 138,
   "metadata": {
    "collapsed": false
   },
   "outputs": [],
   "source": [
    "dados.rename(columns={\"V8005\":\"IDADE\"}, inplace=True)"
   ]
  },
  {
   "cell_type": "code",
   "execution_count": 139,
   "metadata": {
    "collapsed": false
   },
   "outputs": [],
   "source": [
    "bins = list(range(0,121,12))"
   ]
  },
  {
   "cell_type": "code",
   "execution_count": 140,
   "metadata": {
    "collapsed": false
   },
   "outputs": [],
   "source": [
    "coluna_idades = pd.cut(dados.IDADE, bins, include_lowest=True)"
   ]
  },
  {
   "cell_type": "code",
   "execution_count": 141,
   "metadata": {
    "collapsed": true
   },
   "outputs": [],
   "source": [
    "dados[\"FAIXA_IDADES\"] = coluna_idades"
   ]
  },
  {
   "cell_type": "code",
   "execution_count": 142,
   "metadata": {
    "collapsed": true
   },
   "outputs": [],
   "source": [
    "dados_ordenados = dados.sort([\"FAIXA_IDADES\", \"IDADE\"])"
   ]
  },
  {
   "cell_type": "code",
   "execution_count": 143,
   "metadata": {
    "collapsed": true
   },
   "outputs": [],
   "source": [
    "dados.rename(columns={\"V6003\":\"EDUCACAO\"}, inplace=True)"
   ]
  },
  {
   "cell_type": "code",
   "execution_count": 144,
   "metadata": {
    "collapsed": true
   },
   "outputs": [],
   "source": [
    "dados.EDUCACAO = dados.EDUCACAO.astype('category')\n",
    "dados.EDUCACAO.cat.categories = ('1', '2', '3', '4', 'Universitarios','6', '7', '8', '9', '10','11')"
   ]
  },
  {
   "cell_type": "markdown",
   "metadata": {},
   "source": [
    "                                               GERANDO GRÁFICOS"
   ]
  },
  {
   "cell_type": "code",
   "execution_count": 145,
   "metadata": {
    "collapsed": true
   },
   "outputs": [],
   "source": [
    "%matplotlib inline\n",
    "import matplotlib.pyplot as plt\n",
    "import matplotlib\n",
    "matplotlib.style.use('ggplot')"
   ]
  },
  {
   "cell_type": "markdown",
   "metadata": {},
   "source": [
    "TABELA 1 - FAIXA DE IDADE DOS ESTUDANTES UNIVERSITÁRIOS"
   ]
  },
  {
   "cell_type": "code",
   "execution_count": 146,
   "metadata": {
    "collapsed": false
   },
   "outputs": [
    {
     "data": {
      "text/html": [
       "<div>\n",
       "<table border=\"1\" class=\"dataframe\">\n",
       "  <thead>\n",
       "    <tr style=\"text-align: right;\">\n",
       "      <th>EDUCACAO</th>\n",
       "      <th>Universitarios</th>\n",
       "    </tr>\n",
       "    <tr>\n",
       "      <th>FAIXA_IDADES</th>\n",
       "      <th></th>\n",
       "    </tr>\n",
       "  </thead>\n",
       "  <tbody>\n",
       "    <tr>\n",
       "      <th>[0, 12]</th>\n",
       "      <td>0.000000</td>\n",
       "    </tr>\n",
       "    <tr>\n",
       "      <th>(12, 24]</th>\n",
       "      <td>54.645949</td>\n",
       "    </tr>\n",
       "    <tr>\n",
       "      <th>(24, 36]</th>\n",
       "      <td>32.815399</td>\n",
       "    </tr>\n",
       "    <tr>\n",
       "      <th>(36, 48]</th>\n",
       "      <td>10.034014</td>\n",
       "    </tr>\n",
       "    <tr>\n",
       "      <th>(48, 60]</th>\n",
       "      <td>2.280458</td>\n",
       "    </tr>\n",
       "    <tr>\n",
       "      <th>(60, 72]</th>\n",
       "      <td>0.170068</td>\n",
       "    </tr>\n",
       "    <tr>\n",
       "      <th>(72, 84]</th>\n",
       "      <td>0.054113</td>\n",
       "    </tr>\n",
       "    <tr>\n",
       "      <th>(84, 96]</th>\n",
       "      <td>0.000000</td>\n",
       "    </tr>\n",
       "    <tr>\n",
       "      <th>(96, 108]</th>\n",
       "      <td>0.000000</td>\n",
       "    </tr>\n",
       "    <tr>\n",
       "      <th>(108, 120]</th>\n",
       "      <td>0.000000</td>\n",
       "    </tr>\n",
       "  </tbody>\n",
       "</table>\n",
       "</div>"
      ],
      "text/plain": [
       "EDUCACAO      Universitarios\n",
       "FAIXA_IDADES                \n",
       "[0, 12]             0.000000\n",
       "(12, 24]           54.645949\n",
       "(24, 36]           32.815399\n",
       "(36, 48]           10.034014\n",
       "(48, 60]            2.280458\n",
       "(60, 72]            0.170068\n",
       "(72, 84]            0.054113\n",
       "(84, 96]            0.000000\n",
       "(96, 108]           0.000000\n",
       "(108, 120]          0.000000"
      ]
     },
     "execution_count": 146,
     "metadata": {},
     "output_type": "execute_result"
    }
   ],
   "source": [
    "ct = pd.crosstab(dados.FAIXA_IDADES, dados[(dados.EDUCACAO=='Universitarios')].EDUCACAO)\n",
    "divide = ct.sum().sum()\n",
    "porcentagem = ct*100/divide\n",
    "teste1 = porcentagem.iloc[:,4:5]\n",
    "teste1"
   ]
  },
  {
   "cell_type": "markdown",
   "metadata": {},
   "source": [
    "GRÁFICO 1 - FAIXA DE IDADE DOS ESTUDANTES UNIVERSITÁRIOS"
   ]
  },
  {
   "cell_type": "code",
   "execution_count": 147,
   "metadata": {
    "collapsed": false
   },
   "outputs": [
    {
     "data": {
      "text/plain": [
       "<matplotlib.axes._subplots.AxesSubplot at 0x1a838c18>"
      ]
     },
     "execution_count": 147,
     "metadata": {},
     "output_type": "execute_result"
    },
    {
     "data": {
      "image/png": "[encoded data removed]",
      "text/plain": [
       "<matplotlib.figure.Figure at 0x1a1b4c50>"
      ]
     },
     "metadata": {},
     "output_type": "display_data"
    }
   ],
   "source": [
    "pd.DataFrame.plot(kind='bar', data= teste1 , legend=False, title = 'Estudantes universitários por idades - Porcentagem por idade (anos)')"
   ]
  },
  {
   "cell_type": "code",
   "execution_count": 148,
   "metadata": {
    "collapsed": false
   },
   "outputs": [],
   "source": [
    "dados.rename(columns={\"V0302\":\"SEXO\"}, inplace=True)\n",
    "dados.SEXO = dados.SEXO.astype('category')\n",
    "dados.SEXO.cat.categories = ('Masculino','Feminino')\n",
    "su = pd.crosstab(dados.SEXO, dados[(dados.EDUCACAO=='Universitarios')].EDUCACAO)  # su = Sexo dos universitários\n",
    "divide_sexo = su.sum().sum()\n",
    "porcentagem_sexo = su*100/divide_sexo\n",
    "tabela_sexo = porcentagem_sexo.iloc[:,4:5]"
   ]
  },
  {
   "cell_type": "markdown",
   "metadata": {},
   "source": [
    "TABELA 2 - SEXO DOS ESTUDANTES UNIVERSITÁRIOS"
   ]
  },
  {
   "cell_type": "code",
   "execution_count": 149,
   "metadata": {
    "collapsed": false
   },
   "outputs": [
    {
     "data": {
      "text/html": [
       "<div>\n",
       "<table border=\"1\" class=\"dataframe\">\n",
       "  <thead>\n",
       "    <tr style=\"text-align: right;\">\n",
       "      <th>EDUCACAO</th>\n",
       "      <th>Universitarios</th>\n",
       "    </tr>\n",
       "    <tr>\n",
       "      <th>SEXO</th>\n",
       "      <th></th>\n",
       "    </tr>\n",
       "  </thead>\n",
       "  <tbody>\n",
       "    <tr>\n",
       "      <th>Masculino</th>\n",
       "      <td>42.617502</td>\n",
       "    </tr>\n",
       "    <tr>\n",
       "      <th>Feminino</th>\n",
       "      <td>57.382498</td>\n",
       "    </tr>\n",
       "  </tbody>\n",
       "</table>\n",
       "</div>"
      ],
      "text/plain": [
       "EDUCACAO   Universitarios\n",
       "SEXO                     \n",
       "Masculino       42.617502\n",
       "Feminino        57.382498"
      ]
     },
     "execution_count": 149,
     "metadata": {},
     "output_type": "execute_result"
    }
   ],
   "source": [
    "tabela_sexo"
   ]
  },
  {
   "cell_type": "markdown",
   "metadata": {},
   "source": [
    "GRÁFICO 2 - SEXO DOS ESTUDANTES UNIVERSITÁRIOS"
   ]
  },
  {
   "cell_type": "code",
   "execution_count": 150,
   "metadata": {
    "collapsed": false
   },
   "outputs": [
    {
     "data": {
      "text/plain": [
       "<matplotlib.axes._subplots.AxesSubplot at 0x1a8547b8>"
      ]
     },
     "execution_count": 150,
     "metadata": {},
     "output_type": "execute_result"
    },
    {
     "data": {
      "image/png": "[encoded data removed]",
      "text/plain": [
       "<matplotlib.figure.Figure at 0x1a86f8d0>"
      ]
     },
     "metadata": {},
     "output_type": "display_data"
    }
   ],
   "source": [
    "pd.DataFrame.plot(kind='pie', data=dados[dados.EDUCACAO==\"Universitarios\"].SEXO.value_counts(), legend=False,autopct=\"%0.2f\", title = 'Estudantes universitários por sexo')"
   ]
  },
  {
   "cell_type": "code",
   "execution_count": null,
   "metadata": {
    "collapsed": false
   },
   "outputs": [],
   "source": [
    "dados.rename(columns={\"V0404\":\"COR\"}, inplace=True)\n",
    "dados.COR = dados.COR.astype('category')\n",
    "dados.COR.cat.categories = ('Indígeno','Branco','Negro','Amarelo','Pardo', 'Não declarado')\n",
    "ce = pd.crosstab(dados.COR, dados[(dados.EDUCACAO=='Universitarios')].EDUCACAO)  # cu = Cor dos universitários\n",
    "divide_cor = ce.sum().sum()\n",
    "porcentagem_cor = ce*100/divide_cor\n",
    "tabela3 = porcentagem_cor.iloc[:,4:5]"
   ]
  },
  {
   "cell_type": "markdown",
   "metadata": {},
   "source": [
    "TABELA 3 - RAÇA/COR DOS ESTUDANTES UNIVERSITÁRIOS"
   ]
  },
  {
   "cell_type": "code",
   "execution_count": 152,
   "metadata": {
    "collapsed": false
   },
   "outputs": [
    {
     "data": {
      "text/html": [
       "<div>\n",
       "<table border=\"1\" class=\"dataframe\">\n",
       "  <thead>\n",
       "    <tr style=\"text-align: right;\">\n",
       "      <th>EDUCACAO</th>\n",
       "      <th>Universitarios</th>\n",
       "    </tr>\n",
       "    <tr>\n",
       "      <th>COR</th>\n",
       "      <th></th>\n",
       "    </tr>\n",
       "  </thead>\n",
       "  <tbody>\n",
       "    <tr>\n",
       "      <th>Indígeno</th>\n",
       "      <td>0.286024</td>\n",
       "    </tr>\n",
       "    <tr>\n",
       "      <th>Branco</th>\n",
       "      <td>54.158936</td>\n",
       "    </tr>\n",
       "    <tr>\n",
       "      <th>Negro</th>\n",
       "      <td>6.779530</td>\n",
       "    </tr>\n",
       "    <tr>\n",
       "      <th>Amarelo</th>\n",
       "      <td>0.633890</td>\n",
       "    </tr>\n",
       "    <tr>\n",
       "      <th>Pardo</th>\n",
       "      <td>38.141620</td>\n",
       "    </tr>\n",
       "    <tr>\n",
       "      <th>Não declarado</th>\n",
       "      <td>0.000000</td>\n",
       "    </tr>\n",
       "  </tbody>\n",
       "</table>\n",
       "</div>"
      ],
      "text/plain": [
       "EDUCACAO       Universitarios\n",
       "COR                          \n",
       "Indígeno             0.286024\n",
       "Branco              54.158936\n",
       "Negro                6.779530\n",
       "Amarelo              0.633890\n",
       "Pardo               38.141620\n",
       "Não declarado        0.000000"
      ]
     },
     "execution_count": 152,
     "metadata": {},
     "output_type": "execute_result"
    }
   ],
   "source": [
    "tabela3"
   ]
  },
  {
   "cell_type": "markdown",
   "metadata": {},
   "source": [
    "GRÁFICO 3 - RAÇA/COR DOS ESTUDANTES UNIVERSITÁRIOS"
   ]
  },
  {
   "cell_type": "code",
   "execution_count": 153,
   "metadata": {
    "collapsed": false
   },
   "outputs": [
    {
     "data": {
      "text/plain": [
       "<matplotlib.axes._subplots.AxesSubplot at 0x1a8a9b00>"
      ]
     },
     "execution_count": 153,
     "metadata": {},
     "output_type": "execute_result"
    },
    {
     "data": {
      "image/png": "[encoded data removed]",
      "text/plain": [
       "<matplotlib.figure.Figure at 0x1acbfa90>"
      ]
     },
     "metadata": {},
     "output_type": "display_data"
    }
   ],
   "source": [
    "pd.DataFrame.plot(kind='bar', data=tabela3, color=('black'), legend=False, title = 'Estudantes universitários por cor/raça')"
   ]
  },
  {
   "cell_type": "code",
   "execution_count": 154,
   "metadata": {
    "collapsed": false
   },
   "outputs": [],
   "source": [
    "dados.rename(columns={\"V4707\":\"TRABALHO\"}, inplace=True)\n",
    "dados.TRABALHO = dados.TRABALHO.astype('category')\n",
    "dados.TRABALHO.cat.categories = ('Até 14 horas','15 a 39 horas','40 a 44 horas','45 a 48 horas','49 horas ou mais')\n",
    "tu = pd.crosstab(dados.TRABALHO, dados[(dados.EDUCACAO=='Universitarios')].EDUCACAO)  # tu = Jornada de trabalho dos universitários\n",
    "divide_trab = tu.sum().sum()\n",
    "porcentagem_trab= tu*100/divide_trab\n",
    "tabela4 = porcentagem_trab.iloc[:,4:5]"
   ]
  },
  {
   "cell_type": "markdown",
   "metadata": {},
   "source": [
    "TABELA 4 - JORNADA DE TRABALHO DOS ESTUDANTES UNIVERSITÁRIOS"
   ]
  },
  {
   "cell_type": "code",
   "execution_count": 155,
   "metadata": {
    "collapsed": false
   },
   "outputs": [
    {
     "data": {
      "text/html": [
       "<div>\n",
       "<table border=\"1\" class=\"dataframe\">\n",
       "  <thead>\n",
       "    <tr style=\"text-align: right;\">\n",
       "      <th>EDUCACAO</th>\n",
       "      <th>Universitarios</th>\n",
       "    </tr>\n",
       "    <tr>\n",
       "      <th>TRABALHO</th>\n",
       "      <th></th>\n",
       "    </tr>\n",
       "  </thead>\n",
       "  <tbody>\n",
       "    <tr>\n",
       "      <th>Até 14 horas</th>\n",
       "      <td>4.337464</td>\n",
       "    </tr>\n",
       "    <tr>\n",
       "      <th>15 a 39 horas</th>\n",
       "      <td>28.181602</td>\n",
       "    </tr>\n",
       "    <tr>\n",
       "      <th>40 a 44 horas</th>\n",
       "      <td>52.716873</td>\n",
       "    </tr>\n",
       "    <tr>\n",
       "      <th>45 a 48 horas</th>\n",
       "      <td>8.460439</td>\n",
       "    </tr>\n",
       "    <tr>\n",
       "      <th>49 horas ou mais</th>\n",
       "      <td>6.303622</td>\n",
       "    </tr>\n",
       "  </tbody>\n",
       "</table>\n",
       "</div>"
      ],
      "text/plain": [
       "EDUCACAO          Universitarios\n",
       "TRABALHO                        \n",
       "Até 14 horas            4.337464\n",
       "15 a 39 horas          28.181602\n",
       "40 a 44 horas          52.716873\n",
       "45 a 48 horas           8.460439\n",
       "49 horas ou mais        6.303622"
      ]
     },
     "execution_count": 155,
     "metadata": {},
     "output_type": "execute_result"
    }
   ],
   "source": [
    "tabela4"
   ]
  },
  {
   "cell_type": "markdown",
   "metadata": {},
   "source": [
    "GRÁFICO 4 - JORNADA DE TRABALHO DOS ESTUDANTES UNIVERSITÁRIOS"
   ]
  },
  {
   "cell_type": "code",
   "execution_count": 156,
   "metadata": {
    "collapsed": false
   },
   "outputs": [
    {
     "data": {
      "text/plain": [
       "<matplotlib.axes._subplots.AxesSubplot at 0x1a8fe358>"
      ]
     },
     "execution_count": 156,
     "metadata": {},
     "output_type": "execute_result"
    },
    {
     "data": {
      "image/png": "[encoded data removed]",
      "text/plain": [
       "<matplotlib.figure.Figure at 0x1a9061d0>"
      ]
     },
     "metadata": {},
     "output_type": "display_data"
    }
   ],
   "source": [
    "pd.DataFrame.plot(kind='bar', data=tabela4, color=('purple'), legend=False, title = 'Jornada de trabalho dos universitários que trabalham')"
   ]
  },
  {
   "cell_type": "code",
   "execution_count": 157,
   "metadata": {
    "collapsed": false
   },
   "outputs": [],
   "source": [
    "dados.rename(columns={\"V061111\":\"INTERNET\"}, inplace=True)\n",
    "dados.INTERNET = dados.INTERNET.astype('category')\n",
    "dados.INTERNET.cat.categories = ('Sem Internet','Com Internet')\n",
    "dados.INTERNET.value_counts()\n",
    "Int = pd.crosstab(dados.INTERNET, dados[(dados.EDUCACAO=='Universitarios')].EDUCACAO).iloc[:,4:5]  # tu = Jornada de trabalho dos universitários\n",
    "divide_int = Int.sum().sum()\n",
    "porcentagem_Int= Int*100/divide_int"
   ]
  },
  {
   "cell_type": "markdown",
   "metadata": {},
   "source": [
    "TABELA 5 - ACESSO A INTERNET DOS ESTUDANTES UNIVERSITÁRIOS"
   ]
  },
  {
   "cell_type": "code",
   "execution_count": 158,
   "metadata": {
    "collapsed": false
   },
   "outputs": [
    {
     "data": {
      "text/html": [
       "<div>\n",
       "<table border=\"1\" class=\"dataframe\">\n",
       "  <thead>\n",
       "    <tr style=\"text-align: right;\">\n",
       "      <th>EDUCACAO</th>\n",
       "      <th>Universitarios</th>\n",
       "    </tr>\n",
       "    <tr>\n",
       "      <th>INTERNET</th>\n",
       "      <th></th>\n",
       "    </tr>\n",
       "  </thead>\n",
       "  <tbody>\n",
       "    <tr>\n",
       "      <th>Sem Internet</th>\n",
       "      <td>22.520107</td>\n",
       "    </tr>\n",
       "    <tr>\n",
       "      <th>Com Internet</th>\n",
       "      <td>77.479893</td>\n",
       "    </tr>\n",
       "  </tbody>\n",
       "</table>\n",
       "</div>"
      ],
      "text/plain": [
       "EDUCACAO      Universitarios\n",
       "INTERNET                    \n",
       "Sem Internet       22.520107\n",
       "Com Internet       77.479893"
      ]
     },
     "execution_count": 158,
     "metadata": {},
     "output_type": "execute_result"
    }
   ],
   "source": [
    "porcentagem_Int"
   ]
  },
  {
   "cell_type": "markdown",
   "metadata": {},
   "source": [
    "GRÁFICO 5 - ACESSO A INTERNET DOS ESTUDANTES UNIVERSITÁRIOS"
   ]
  },
  {
   "cell_type": "code",
   "execution_count": 159,
   "metadata": {
    "collapsed": false,
    "scrolled": true
   },
   "outputs": [
    {
     "data": {
      "text/plain": [
       "<matplotlib.axes._subplots.AxesSubplot at 0x19416be0>"
      ]
     },
     "execution_count": 159,
     "metadata": {},
     "output_type": "execute_result"
    },
    {
     "data": {
      "image/png": "[encoded data removed]",
      "text/plain": [
       "<matplotlib.figure.Figure at 0x1a9798d0>"
      ]
     },
     "metadata": {},
     "output_type": "display_data"
    }
   ],
   "source": [
    "pd.DataFrame.plot(kind='pie', data=dados[dados.EDUCACAO=='Universitarios'].INTERNET.value_counts(), autopct='%0.2f', legend=True, title = 'Estudantes universitários com/sem internet')"
   ]
  },
  {
   "cell_type": "raw",
   "metadata": {},
   "source": [
    "                                                          CONCLUSÃO\n",
    "                                                          \n",
    "A partir da pesquisa, Mr. Gold pode tirar diversas conclusões sobre como direcionar seu negócio e esforços de marketing. \n",
    "Entre elas estão: a maioria dos estudantes universitários se encontram na faixa de idade entre 12 e 24 anos (54,6%), \n",
    "a maioria pertencem ao sexo feminino (57,4%), cerca de 54,1% dos estudantes são considerados brancos, mais da metade dos estudantes que trabalham tem carga de trabalho entre 40 e 44 horas (52,7%) e cerca de 77,5% dos estudantes universitários utilizaram internet no último ano. Portanto, podemos concluir que Mr. Gold deve manter o foco nas pessoas com idade entre 12 e 24 anos, porém como a maioria das pessoas sai da escola com 17 anos, ele poderia focar suas atenções para os estudantes que acabaram de concluir o ensimo médio. Além disso, ele poderá direcionar seu marketing via Internet, visto que grande parte dos universitários utilizam esse meio de comunicação."
   ]
  }
 ],
 "metadata": {
  "kernelspec": {
   "display_name": "Python 3",
   "language": "python",
   "name": "python3"
  },
  "language_info": {
   "codemirror_mode": {
    "name": "ipython",
    "version": 3
   },
   "file_extension": ".py",
   "mimetype": "text/x-python",
   "name": "python",
   "nbconvert_exporter": "python",
   "pygments_lexer": "ipython3",
   "version": "3.4.3"
  }
 },
 "nbformat": 4,
 "nbformat_minor": 0
}
