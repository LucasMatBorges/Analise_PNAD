{
 "cells": [
  {
   "cell_type": "markdown",
   "metadata": {},
   "source": [
    "#ATIVIDADE - Encontro 03\n",
    "\n",
    "**Arthur Rizzo, Felipe Goichman e Lucas Borges**"
   ]
  },
  {
   "cell_type": "code",
   "execution_count": 2,
   "metadata": {
    "collapsed": false
   },
   "outputs": [
    {
     "name": "stdout",
     "output_type": "stream",
     "text": [
      "Esperamos trabalhar no diretório\n",
      "C:\\Users\\Lucas Borges\\Desktop\n"
     ]
    }
   ],
   "source": [
    "%matplotlib inline\n",
    "\n",
    "import os\n",
    "import pandas as pd\n",
    "\n",
    "print(\"Esperamos trabalhar no diretório\")\n",
    "print(os.getcwd())\n",
    "\n",
    "#os.chdir('C:/Users/Marcelo/Dropbox/DataScience/Ciência dos dados/Encontro 03/Python BL')\n",
    "dados = pd.read_table('BankLoan.txt.gz', compression=\"gzip\")"
   ]
  },
  {
   "cell_type": "code",
   "execution_count": 3,
   "metadata": {
    "collapsed": false
   },
   "outputs": [],
   "source": [
    "dados.EDUCACAO = dados.EDUCACAO.astype('category')\n",
    "dados.EDUCACAO.cat.categories = ('Analfabeto', '1o. Grau', '2o. Grau', 'Graduacao', 'Pos-Graduacao')\n",
    "\n",
    "dados.DEFAULT = dados.DEFAULT.astype('category')\n",
    "dados.DEFAULT.cat.categories = ('Adimplente', 'Inadimplente')"
   ]
  },
  {
   "cell_type": "markdown",
   "metadata": {},
   "source": [
    "Assim como já foi feito com as variáveis qualitativas nas aulas anteriores, também é possível iniciar uma análise exploratória de variáveis quantitativas por meio de construção de tabelas de frequências absolutas e relativas. \n",
    "\n",
    "Entretanto, aplicar o comando `value_counts` diretamente na variável quantitativa `IDADE` pode não ser muito útil dado o objetivo da análise descritiva."
   ]
  },
  {
   "cell_type": "markdown",
   "metadata": {},
   "source": [
    "Pense _o porquê_ e justifique! Rode essa linha de comando, se julgar necessário."
   ]
  },
  {
   "cell_type": "markdown",
   "metadata": {
    "collapsed": false
   },
   "source": [
    "Porque estamos analisando os dados em faixas de idades e não apenas diversas idades separadas entre si."
   ]
  },
  {
   "cell_type": "markdown",
   "metadata": {},
   "source": [
    "Explorando a variável `IDADE` com o comando `describe`, entre outros motivos, pode ser útil para mostrar o valor mínimo e máximo dessa variável. Em seguida, o comando `cut` deixará a nova variável idade categorizada com seis níveis, sendo os quatro primeiros níveis com amplitude igual a 5 anos e dois últimos com amplitude 10."
   ]
  },
  {
   "cell_type": "markdown",
   "metadata": {},
   "source": [
    "**1) Com as linhas de comando acima, a nova variável `idade` é definida como uma variável qualitativa. Construa as tabelas de frequências (absolutas e relativas) usando os comandos de forma similar ao feito na aula passada. **"
   ]
  },
  {
   "cell_type": "code",
   "execution_count": 4,
   "metadata": {
    "collapsed": false,
    "scrolled": true
   },
   "outputs": [],
   "source": [
    "idade = pd.cut(dados.IDADE, (20, 25, 30, 35, 40, 50, 60), False)\n",
    "idade\n",
    "x=idade.value_counts()"
   ]
  },
  {
   "cell_type": "code",
   "execution_count": 5,
   "metadata": {
    "collapsed": false
   },
   "outputs": [],
   "source": [
    "divide = x.sum()\n",
    "porcentagem = x*100/divide"
   ]
  },
  {
   "cell_type": "code",
   "execution_count": 6,
   "metadata": {
    "collapsed": false
   },
   "outputs": [],
   "source": [
    "data=pd.crosstab(idade, dados.DEFAULT)"
   ]
  },
  {
   "cell_type": "code",
   "execution_count": 7,
   "metadata": {
    "collapsed": false
   },
   "outputs": [],
   "source": [
    "divide = data.sum().sum()\n",
    "porcentagem = data*100/divide"
   ]
  },
  {
   "cell_type": "markdown",
   "metadata": {},
   "source": [
    "**1.1. Interprete os resultados observando saída das duas tabelas construídas. O que estes dados querem dizer? Onde estão mais concentrados? **\n",
    "\n",
    "**1.2. Dos 500 clientes que fazem parte da amostra, quantos são inadimplentes e tem entre 30 anos (inclusive) e 40 anos (exclusive)? **\n",
    "\n",
    "**1.3. Qual o percentual de clientes inadimplentes e entre [40,60) anos? **\n",
    "\n",
    "**1.4. Entre os inadimplentes, qual o percentual de clientes entre [20,25) anos? **\n",
    "\n",
    "**1.5. Entre clientes com 20 a 25 anos, qual o percentual de inadimplentes? E de adimplentes? **\n",
    "\n",
    "**1.6. A distribuição das frequências relativas da variável `idade` se altera segundo a variável `DEFAULT`? Justifique de forma clara sua resposta. Qual a importância dessa pergunta para o principal objetivo do problema? Justifique.**"
   ]
  },
  {
   "cell_type": "markdown",
   "metadata": {},
   "source": [
    "**RESPOSTAS**"
   ]
  },
  {
   "cell_type": "markdown",
   "metadata": {
    "collapsed": true
   },
   "source": [
    "1.1) Os dados da primeira tabela são o numero de casos presentes entre os determinados intervalos de idade(esta mais concentrado entre 40 e 50 anos) e a segunda tabela equivale a porcentagem de cada intervalo de idade, isto é, o numero de ocorrencias de casos pelo numero total de pessoas(esta mais concentrado entre 40 e 50 anos)."
   ]
  },
  {
   "cell_type": "markdown",
   "metadata": {},
   "source": [
    "1.2) 44 clientes são inadimplentes e estão na faixa entre 30 e 40 anos."
   ]
  },
  {
   "cell_type": "markdown",
   "metadata": {},
   "source": [
    "1.3) O percentual de clientes inadimplentes entre 40 e 60 anos é de 6.2%."
   ]
  },
  {
   "cell_type": "markdown",
   "metadata": {},
   "source": [
    "1.4) Seria o total de inadimplentes pelo numero de inadimplentes entre 20 e 25 anos, ou seja, seria 35/129, algo como 27,13%."
   ]
  },
  {
   "cell_type": "markdown",
   "metadata": {},
   "source": [
    "1.5) O percentual de adimplentes seria o numero total de clientes entre 20 e 25 anos pelo numero de adimplentes dessa faixa de idade,ou seja, 26/45, algo como 57,7%. Já o percentual de inadimplentes equivale a 19/45, algo como, 42,2%."
   ]
  },
  {
   "cell_type": "markdown",
   "metadata": {},
   "source": [
    "1.6) A distribuição das frequencias relativas da variavel idade se altera segundo a variavel DEFAULT, uma vez que cruzamos os dados entre eles, dando um porcentual diferente."
   ]
  },
  {
   "cell_type": "markdown",
   "metadata": {},
   "source": [
    "Com as linhas de comando a seguir, obtêm-se os gráficos apresentados abaixo:"
   ]
  },
  {
   "cell_type": "code",
   "execution_count": 8,
   "metadata": {
    "collapsed": false
   },
   "outputs": [
    {
     "data": {
      "text/plain": [
       "<matplotlib.axes._subplots.AxesSubplot at 0x8193588>"
      ]
     },
     "execution_count": 8,
     "metadata": {},
     "output_type": "execute_result"
    },
    {
     "data": {
      "image/png": "[encoded data removed]",
      "text/plain": [
       "<matplotlib.figure.Figure at 0x80eb908>"
      ]
     },
     "metadata": {},
     "output_type": "display_data"
    },
    {
     "data": {
      "image/png": "[encoded data removed]",
      "text/plain": [
       "<matplotlib.figure.Figure at 0x80eb898>"
      ]
     },
     "metadata": {},
     "output_type": "display_data"
    }
   ],
   "source": [
    "pd.DataFrame.plot(kind='hist', data=dados.IDADE, bins=(20, 25, 30, 35, 40, 50, 60), color=('blue'), legend=False)\n",
    "pd.DataFrame.plot(kind='hist', data=dados.IDADE, bins=(20, 25, 30, 35, 40, 50, 60), color=('red'), normed=True, legend=False)"
   ]
  },
  {
   "cell_type": "markdown",
   "metadata": {},
   "source": [
    "**2) Responda:**\n",
    "\n",
    "**2.1. Esses gráficos são iguais? Ou seja, obtemos a mesma interpretação sobre o comportamento da variável `IDADE` quando se interpretam ambos? Justifique sua resposta. **"
   ]
  },
  {
   "cell_type": "markdown",
   "metadata": {},
   "source": [
    "**2.2. Qual a consequência da utilização da densidade para o histograma? A partir da **Tabela 1**, como deve ser feita a conta para obter o valor da densidade em cada faixa de idade?**\n",
    "\n",
    "Faixa de idade|Frequência absoluta|Frequência relativa|Densidade\n",
    "-|-|-|-\n",
    "[20,25)|45|0,090|\n",
    "[25,30)|112|0,224|\n",
    "[30,35)|106|0,212|\n",
    "[35,40)|99|0,198|\n",
    "[40,50)|115|0,230|\n",
    "[50,60)|23|0,046|\n",
    "Total|500|1|\n",
    "\n",
    "<center>Tabela 1. Frequências absolutas e relativas da variável `IDADE`.</center>\n",
    "\n",
    "**2.3. Se os histogramas são construídos com faixas de idade todas de mesma amplitude (por exemplo, 5 anos), o que acontece com visual dos histogramas construídos quando utilizada a frequência absoluta e densidade?**\n",
    "\n",
    "**2.4. Construa um histograma para variável `IDADE` para cada categoria da variável `DEFAULT`. Interprete-os.**"
   ]
  },
  {
   "cell_type": "markdown",
   "metadata": {},
   "source": [
    "**RESPOSTAS**"
   ]
  },
  {
   "cell_type": "markdown",
   "metadata": {},
   "source": [
    "2.1)Os graficos não são iguais, uma vez que um corresponde a frequencia absoluta(numero de casos) e o outro a frequencia\n",
    "relativa(porcentagem), cuja  diferença está na densidade que foi implantada no segundo grafico, que reflete na diferença \n",
    "das colunas."
   ]
  },
  {
   "cell_type": "markdown",
   "metadata": {},
   "source": [
    "2.2) A utilização da densidade faz com que as colunas com intervalos maiores diminuam de tamanho, uma vez que equivaleria a uma relação entre o intervalo de idade e o numero de casos. Para obter o valor da densidade, devemos pegar a frequencia absoluta e dividi-lo pelo numero de intervalo de idade."
   ]
  },
  {
   "cell_type": "markdown",
   "metadata": {
    "collapsed": true
   },
   "source": [
    "2.3) Os graficos de frequencia absoluta e da frequencia relativa ficariam iguais, só mudando apenas o eixo y dos graficos, isso porque os intervalos de idade seriam os mesmos."
   ]
  },
  {
   "cell_type": "code",
   "execution_count": 9,
   "metadata": {
    "collapsed": false
   },
   "outputs": [
    {
     "data": {
      "text/plain": [
       "array([<matplotlib.axes._subplots.AxesSubplot object at 0x00000000082019E8>,\n",
       "       <matplotlib.axes._subplots.AxesSubplot object at 0x00000000084AA2B0>], dtype=object)"
      ]
     },
     "execution_count": 9,
     "metadata": {},
     "output_type": "execute_result"
    },
    {
     "data": {
      "image/png": "[encoded data removed]",
      "text/plain": [
       "<matplotlib.figure.Figure at 0x467c940>"
      ]
     },
     "metadata": {},
     "output_type": "display_data"
    }
   ],
   "source": [
    "#2.4)\n",
    "dados.IDADE.hist(dados.DEFAULT)"
   ]
  },
  {
   "cell_type": "markdown",
   "metadata": {},
   "source": [
    "Além de apresentar as frequências absoluta e relativa para cada faixa de idade, a **Tabela 2** também apresenta a frequência relativa acumulada. Uma possível interpretação que utiliza essa frequência acumulada, útil em variáveis quantitativas, seria dizer que a maioria dos clientes (52,6% ) da amostra tem menos de 35 anos.\n",
    "\n",
    "Faixa de idade|Frequência absoluta|Frequência relativa (%)|Frequência relativa acumulada (%)\n",
    "-|-|-|-\n",
    "[20,25)|45|9,0%|9,0% \n",
    "[25,30)|112|22,4%|31,4% \n",
    "[30,35)|106|21,2%|52,6% \n",
    "[35,40)|99|19,8%|72,4% \n",
    "[40,50)|115|23,0%|95,4% \n",
    "[50,60)|23|4,6%|100,0% \n",
    "Total|500|100%| \n",
    "\n",
    "<center>**Tabela 2.** Frequências absolutas, relativas e relativas acumuladas da variável `IDADE`.</center>\n",
    "\n",
    "**3) Considerando os resultados da Tabela 2 e o histogram de densidade, faça contas para determinar: **\n",
    "\n",
    "**3.1. Valor que divide os 50% mais jovens dos demais 50% (menos jovens). **\n",
    "\n",
    "**3.2. Menor idade entre os 25% clientes mais velhos. E a maior idade entre os 75% clientes mais jovens. **\n",
    "\n",
    "**3.3. Percentual de clientes com até 45 anos? **\n",
    "\n",
    "**3.4. Percentual de clientes acima de 37 anos?**"
   ]
  },
  {
   "cell_type": "code",
   "execution_count": 10,
   "metadata": {
    "collapsed": false
   },
   "outputs": [
    {
     "data": {
      "text/plain": [
       "[0, 37)     59.8\n",
       "[37, 45)    27.2\n",
       "[45, 60)    13.0\n",
       "dtype: float64"
      ]
     },
     "execution_count": 10,
     "metadata": {},
     "output_type": "execute_result"
    }
   ],
   "source": [
    "idade = pd.cut(dados.IDADE, (0,37,45,60), False)\n",
    "idade\n",
    "x=idade.value_counts()\n",
    "divide = x.sum()\n",
    "porcentagem1 = x*100/divide\n",
    "porcentagem1"
   ]
  },
  {
   "cell_type": "markdown",
   "metadata": {},
   "source": [
    "**RESPOSTAS**"
   ]
  },
  {
   "cell_type": "code",
   "execution_count": 11,
   "metadata": {
    "collapsed": false
   },
   "outputs": [
    {
     "data": {
      "text/plain": [
       "34.0"
      ]
     },
     "execution_count": 11,
     "metadata": {},
     "output_type": "execute_result"
    }
   ],
   "source": [
    "dados.IDADE.median()"
   ]
  },
  {
   "cell_type": "markdown",
   "metadata": {},
   "source": [
    "3.1) O valor mediano é 34 anos."
   ]
  },
  {
   "cell_type": "markdown",
   "metadata": {},
   "source": [
    "3.2) A menor idade entre os 25% mais velhos é de 40 anos. A maior idade entre os 75% mais jovens é  de 29 anos."
   ]
  },
  {
   "cell_type": "markdown",
   "metadata": {},
   "source": [
    "3.3) O percentual é de 87%."
   ]
  },
  {
   "cell_type": "markdown",
   "metadata": {},
   "source": [
    "3.4) O percentual é de 40,2%."
   ]
  }
 ],
 "metadata": {
  "kernelspec": {
   "display_name": "Python 3",
   "language": "python",
   "name": "python3"
  },
  "language_info": {
   "codemirror_mode": {
    "name": "ipython",
    "version": 3
   },
   "file_extension": ".py",
   "mimetype": "text/x-python",
   "name": "python",
   "nbconvert_exporter": "python",
   "pygments_lexer": "ipython3",
   "version": "3.4.3"
  }
 },
 "nbformat": 4,
 "nbformat_minor": 0
}
